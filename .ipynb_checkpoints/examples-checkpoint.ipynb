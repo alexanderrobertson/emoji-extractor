{
 "cells": [
  {
   "cell_type": "code",
   "execution_count": 1,
   "metadata": {
    "collapsed": true
   },
   "outputs": [],
   "source": [
    "# 10,000 strings. 1,580 contain emoji\n",
    "with open('random_10k.txt', 'r', encoding='utf-8') as f:\n",
    "    random_10k = f.read().splitlines()\n",
    "\n",
    "# 10,000 strings. All 10,000 contain emoji\n",
    "with open('emojis_10k.txt', 'r', encoding='utf-8') as f:\n",
    "    emojis_10k = f.read().splitlines()"
   ]
  },
  {
   "cell_type": "code",
   "execution_count": 2,
   "metadata": {
    "collapsed": true
   },
   "outputs": [],
   "source": [
    "from extract import Extractor\n",
    "\n",
    "extract = Extractor()"
   ]
  },
  {
   "cell_type": "markdown",
   "metadata": {},
   "source": [
    "# Usage 1\n",
    "## Pass in strings without knowing beforehand if they contain emoji"
   ]
  },
  {
   "cell_type": "markdown",
   "metadata": {},
   "source": [
    "With ```check_first=True```, determine if there are actually any emoji present to count.\n",
    "\n",
    "If there are, then count them. If not, then return an empty dictionary - which would have been the result anyway."
   ]
  },
  {
   "cell_type": "code",
   "execution_count": 3,
   "metadata": {},
   "outputs": [
    {
     "name": "stdout",
     "output_type": "stream",
     "text": [
      "Counter()\n",
      "Counter({'👀': 1})\n",
      "Counter({'🌟': 1, '💕': 1})\n",
      "Counter()\n",
      "Counter()\n",
      "Counter()\n",
      "Counter()\n",
      "Counter({'⏰': 1, '🥅': 1, '🆚': 1, '🏆': 1})\n",
      "Counter()\n",
      "Counter()\n"
     ]
    }
   ],
   "source": [
    "for t in random_10k[0:10]:\n",
    "    print(extract.count_emoji(t, check_first=True))"
   ]
  },
  {
   "cell_type": "markdown",
   "metadata": {},
   "source": [
    "A collections.Counter object is returned. If no emoji were counted, then the Counter will be empty."
   ]
  },
  {
   "cell_type": "markdown",
   "metadata": {},
   "source": [
    "# Usage 2\n",
    "\n",
    "## Pass in strings that you already know contain emoji"
   ]
  },
  {
   "cell_type": "markdown",
   "metadata": {},
   "source": [
    "With ```check_first=False```, just assume that there will be emoji present.\n",
    "\n",
    "Perhaps because you've already filtered the data."
   ]
  },
  {
   "cell_type": "code",
   "execution_count": 4,
   "metadata": {},
   "outputs": [
    {
     "name": "stdout",
     "output_type": "stream",
     "text": [
      "Counter({'😇': 2, '💦': 2})\n",
      "Counter({'😭': 1})\n",
      "Counter({'🛫': 1, '🏆': 1})\n",
      "Counter({'🍎': 1})\n",
      "Counter({'💁🏻': 1})\n",
      "Counter({'🔴': 1})\n",
      "Counter({'☺': 1})\n",
      "Counter({'😿': 1, '💛': 1})\n",
      "Counter({'😿': 1, '💛': 1})\n",
      "Counter({'😿': 1, '💛': 1})\n"
     ]
    }
   ],
   "source": [
    "for t in emojis_10k[0:10]:   \n",
    "    print(extract.count_emoji(t, check_first=False))"
   ]
  },
  {
   "cell_type": "markdown",
   "metadata": {},
   "source": [
    "# Usage 3\n",
    "## Pass an iterable of strings\n",
    "\n",
    "Counters have a useful ```most_common``` method."
   ]
  },
  {
   "cell_type": "code",
   "execution_count": 5,
   "metadata": {},
   "outputs": [
    {
     "data": {
      "text/plain": [
       "[('😿', 3),\n",
       " ('💛', 3),\n",
       " ('😇', 2),\n",
       " ('💦', 2),\n",
       " ('😭', 1),\n",
       " ('🛫', 1),\n",
       " ('🏆', 1),\n",
       " ('🍎', 1),\n",
       " ('💁🏻', 1),\n",
       " ('🔴', 1),\n",
       " ('☺', 1)]"
      ]
     },
     "execution_count": 5,
     "metadata": {},
     "output_type": "execute_result"
    }
   ],
   "source": [
    "count = extract.count_all_emoji(emojis_10k[0:10])\n",
    "\n",
    "count.most_common()"
   ]
  },
  {
   "cell_type": "code",
   "execution_count": 6,
   "metadata": {},
   "outputs": [
    {
     "data": {
      "text/plain": [
       "[('😂', 2813),\n",
       " ('❤', 1150),\n",
       " ('😍', 974),\n",
       " ('😭', 933),\n",
       " ('💕', 552),\n",
       " ('🔥', 485),\n",
       " ('✨', 430),\n",
       " ('♥', 286),\n",
       " ('😊', 277),\n",
       " ('😘', 236)]"
      ]
     },
     "execution_count": 6,
     "metadata": {},
     "output_type": "execute_result"
    }
   ],
   "source": [
    "count2 = extract.count_all_emoji(emojis_10k)\n",
    "\n",
    "count2.most_common(n=10)"
   ]
  },
  {
   "cell_type": "markdown",
   "metadata": {},
   "source": [
    "# Speed comparison\n",
    "When you're not sure if you have emoji in all strings, it's obviously faster to check first before trying to count since counting involves a lot of searches."
   ]
  },
  {
   "cell_type": "markdown",
   "metadata": {},
   "source": [
    "Example of how much slower it is without checking first:"
   ]
  },
  {
   "cell_type": "code",
   "execution_count": 7,
   "metadata": {},
   "outputs": [
    {
     "name": "stdout",
     "output_type": "stream",
     "text": [
      "1 loop, best of 3: 1.72 s per loop\n"
     ]
    }
   ],
   "source": [
    "%%timeit\n",
    "for t in random_10k:\n",
    "    extract.count_emoji(t, check_first=False)"
   ]
  },
  {
   "cell_type": "markdown",
   "metadata": {},
   "source": [
    "And with checking, where you only run the counter for 15% of the strings:"
   ]
  },
  {
   "cell_type": "code",
   "execution_count": 8,
   "metadata": {},
   "outputs": [
    {
     "name": "stdout",
     "output_type": "stream",
     "text": [
      "1 loop, best of 3: 357 ms per loop\n"
     ]
    }
   ],
   "source": [
    "%%timeit\n",
    "for t in random_10k:\n",
    "    extract.count_emoji(t, check_first=True)"
   ]
  },
  {
   "cell_type": "markdown",
   "metadata": {},
   "source": [
    "If you already know that every string has emoji, then disabling checking gives a very minor speedup:"
   ]
  },
  {
   "cell_type": "code",
   "execution_count": 9,
   "metadata": {},
   "outputs": [
    {
     "name": "stdout",
     "output_type": "stream",
     "text": [
      "1 loop, best of 3: 1.8 s per loop\n"
     ]
    }
   ],
   "source": [
    "%%timeit\n",
    "for t in emojis_10k:   \n",
    "    extract.count_emoji(t, check_first=False)"
   ]
  },
  {
   "cell_type": "code",
   "execution_count": 10,
   "metadata": {},
   "outputs": [
    {
     "name": "stdout",
     "output_type": "stream",
     "text": [
      "1 loop, best of 3: 1.85 s per loop\n"
     ]
    }
   ],
   "source": [
    "%%timeit\n",
    "for t in emojis_10k:   \n",
    "    extract.count_emoji(t, check_first=True)"
   ]
  }
 ],
 "metadata": {
  "kernelspec": {
   "display_name": "Python 3",
   "language": "python",
   "name": "python3"
  },
  "language_info": {
   "codemirror_mode": {
    "name": "ipython",
    "version": 3
   },
   "file_extension": ".py",
   "mimetype": "text/x-python",
   "name": "python",
   "nbconvert_exporter": "python",
   "pygments_lexer": "ipython3",
   "version": "3.6.1"
  }
 },
 "nbformat": 4,
 "nbformat_minor": 2
}
